{
  "cells": [
    {
      "cell_type": "code",
      "execution_count": 1,
      "metadata": {
        "id": "7pUY1x-otLmb",
        "colab": {
          "base_uri": "https://localhost:8080/"
        },
        "outputId": "1aaa484e-3cf7-45ec-a357-65ccfb05ca9f"
      },
      "outputs": [
        {
          "output_type": "stream",
          "name": "stdout",
          "text": [
            "\u001b[2K     \u001b[90m━━━━━━━━━━━━━━━━━━━━━━━━━━━━━━━━━━━━━━━━\u001b[0m \u001b[32m44.3/44.3 kB\u001b[0m \u001b[31m3.8 MB/s\u001b[0m eta \u001b[36m0:00:00\u001b[0m\n",
            "\u001b[2K   \u001b[90m━━━━━━━━━━━━━━━━━━━━━━━━━━━━━━━━━━━━━━━━\u001b[0m \u001b[32m22.2/22.2 MB\u001b[0m \u001b[31m59.3 MB/s\u001b[0m eta \u001b[36m0:00:00\u001b[0m\n",
            "\u001b[2K   \u001b[90m━━━━━━━━━━━━━━━━━━━━━━━━━━━━━━━━━━━━━━━━\u001b[0m \u001b[32m9.9/9.9 MB\u001b[0m \u001b[31m79.9 MB/s\u001b[0m eta \u001b[36m0:00:00\u001b[0m\n",
            "\u001b[2K   \u001b[90m━━━━━━━━━━━━━━━━━━━━━━━━━━━━━━━━━━━━━━━━\u001b[0m \u001b[32m6.9/6.9 MB\u001b[0m \u001b[31m80.9 MB/s\u001b[0m eta \u001b[36m0:00:00\u001b[0m\n",
            "\u001b[2K   \u001b[90m━━━━━━━━━━━━━━━━━━━━━━━━━━━━━━━━━━━━━━━━\u001b[0m \u001b[32m79.1/79.1 kB\u001b[0m \u001b[31m6.8 MB/s\u001b[0m eta \u001b[36m0:00:00\u001b[0m\n",
            "\u001b[?25h"
          ]
        }
      ],
      "source": [
        "# Step 1: Install and Import Libraries\n",
        "!pip install earthengine-api tensorflow opencv-python-headless rasterio geopandas matplotlib seaborn streamlit tqdm -q"
      ]
    },
    {
      "cell_type": "code",
      "execution_count": 2,
      "metadata": {
        "id": "TCrmh5Fzu6OS"
      },
      "outputs": [],
      "source": [
        "!rm -rf ~/.config/earthengine\n"
      ]
    },
    {
      "cell_type": "code",
      "execution_count": 3,
      "metadata": {
        "id": "P3R0u8PryFJO"
      },
      "outputs": [],
      "source": [
        "import ee\n",
        "ee.Authenticate()"
      ]
    },
    {
      "cell_type": "code",
      "execution_count": 4,
      "metadata": {
        "id": "c8yB4iNbyLRQ"
      },
      "outputs": [],
      "source": [
        "ee.Initialize(project='my-desertification-bucket')"
      ]
    },
    {
      "cell_type": "code",
      "execution_count": 5,
      "metadata": {
        "id": "dPab0L50jzZQ"
      },
      "outputs": [],
      "source": [
        "# Step 1: Import Libraries and Install tqdm\n",
        "import ee\n",
        "import numpy as np\n",
        "import matplotlib.pyplot as plt\n",
        "import seaborn as sns\n",
        "import requests\n",
        "from PIL import Image\n",
        "import io\n",
        "import geopandas as gpd\n",
        "import pandas as pd\n",
        "import os\n",
        "from google.colab import files\n",
        "import warnings\n",
        "warnings.filterwarnings('ignore')\n",
        "from sklearn.metrics import classification_report, confusion_matrix, roc_auc_score\n",
        "from sklearn.cluster import KMeans\n",
        "import tensorflow as tf\n",
        "from tensorflow.keras.models import Model\n",
        "from tensorflow.keras.layers import Input, Conv2D, MaxPooling2D, UpSampling2D, concatenate\n",
        "from tensorflow.keras.optimizers import Adam\n",
        "import streamlit as st\n",
        "from tqdm import tqdm\n",
        "import time\n"
      ]
    },
    {
      "cell_type": "code",
      "execution_count": 6,
      "metadata": {
        "id": "B5CUXhcfj-Ky"
      },
      "outputs": [],
      "source": [
        "# Step 2: Configuration Variables\n",
        "NDVI_THRESHOLD = 0.03\n",
        "DESERTIFICATION_CHANGE = -0.05\n",
        "SAMPLE_SCALE = 100\n",
        "STAT_SCALE = 500\n",
        "MAX_PIXELS = 1e11\n",
        "RF_NUM_TREES = 100\n",
        "RF_SAMPLE_PIXELS = 10000\n",
        "EVAL_SAMPLE_PIXELS = 15000  # Increased for better evaluation"
      ]
    },
    {
      "cell_type": "code",
      "execution_count": 7,
      "metadata": {
        "id": "dMAocIzYkI0Y"
      },
      "outputs": [],
      "source": [
        "# Step 3: Utility Functions\n",
        "def export_to_drive(image, description, folder, scale, region):\n",
        "    task = ee.batch.Export.image.toDrive(\n",
        "        image=image,\n",
        "        description=description,\n",
        "        folder=folder,\n",
        "        scale=scale,\n",
        "        region=region,\n",
        "        maxPixels=MAX_PIXELS\n",
        "    )\n",
        "    task.start()\n",
        "    print(f\"Export task started: {description}. Check Google Drive folder '{folder}' for '{description}.tif'.\")\n",
        "    return task\n",
        "\n",
        "def wait_for_task(task, timeout=600):\n",
        "    start_time = time.time()\n",
        "    while task.active():\n",
        "        if time.time() - start_time > timeout:\n",
        "            print(f\"Task {task} timed out after {timeout} seconds.\")\n",
        "            raise SystemExit\n",
        "        time.sleep(10)\n",
        "    status = task.status()['state']\n",
        "    print(f\"Task {task} completed with status: {status}\")\n",
        "    if status != 'COMPLETED':\n",
        "        error_message = task.status().get('error_message', 'No error message provided.')\n",
        "        print(f\"Task failed with status: {status}. Error: {error_message}\")\n",
        "        raise SystemExit\n",
        "    return status"
      ]
    },
    {
      "cell_type": "code",
      "execution_count": 8,
      "metadata": {
        "colab": {
          "base_uri": "https://localhost:8080/"
        },
        "id": "aus4BAUXkMJW",
        "outputId": "b66e6f71-e2a0-475e-d3cc-66dbf025be95"
      },
      "outputs": [
        {
          "output_type": "stream",
          "name": "stdout",
          "text": [
            "GEE initialized successfully.\n"
          ]
        }
      ],
      "source": [
        "# Step 4: Authenticate and Initialize Google Earth Engine\n",
        "def initialize_gee(project_id='my-desertification-bucket'):\n",
        "    try:\n",
        "        ee.Initialize(project=project_id)\n",
        "        print(\"GEE initialized successfully.\")\n",
        "    except Exception as e:\n",
        "        print(f\"Error initializing GEE: {e}\")\n",
        "        print(\"1. Ensure you have a Google Cloud Project with Earth Engine API enabled.\")\n",
        "        print(\"2. Run the following in a separate cell to authenticate:\")\n",
        "        print(\"```python\\n!rm -rf ~/.config/earthengine\\nimport ee\\nee.Authenticate()\\n```\")\n",
        "        print(\"3. Then initialize with your project ID:\")\n",
        "        print(\"```python\\nimport ee\\nee.Initialize(project='my-desertification-bucket')\\n```\")\n",
        "        print(\"Visit http://goo.gle/ee-auth for details.\")\n",
        "        raise SystemExit\n",
        "\n",
        "initialize_gee(project_id='my-desertification-bucket')"
      ]
    },
    {
      "cell_type": "code",
      "execution_count": 9,
      "metadata": {
        "colab": {
          "base_uri": "https://localhost:8080/"
        },
        "id": "4n_gozjCkQeC",
        "outputId": "26ad2bd0-812a-4090-d37f-9b7f6492dd58"
      },
      "outputs": [
        {
          "output_type": "stream",
          "name": "stdout",
          "text": [
            "Enter the coordinates for your region of interest (rectangle).\n",
            "Default (Thar Desert, India): [68.0, 24.0, 71.0, 27.0]\n",
            "Minimum Longitude (e.g., 68.0): 88\n",
            "Minimum Latitude (e.g., 24.0): 20.9407\n",
            "Maximum Longitude (e.g., 71.0): 90\n",
            "Maximum Latitude (e.g., 27.0): 22.9407\n",
            "Region of Interest set to: [west: 88.0, south: 20.9407, east: 90.0, north: 22.9407]\n",
            "Estimated pixel count at 30m resolution: 55077303\n",
            "Estimated pixel count at 100m resolution: 4958520\n",
            "Estimated pixel count at 500m resolution: 198662\n"
          ]
        }
      ],
      "source": [
        "\n",
        "# Step 5: User-Defined Region of Interest\n",
        "print(\"Enter the coordinates for your region of interest (rectangle).\")\n",
        "print(\"Default (Thar Desert, India): [68.0, 24.0, 71.0, 27.0]\")\n",
        "min_lon = float(input(\"Minimum Longitude (e.g., 68.0): \") or 68.0)\n",
        "min_lat = float(input(\"Minimum Latitude (e.g., 24.0): \") or 24.0)\n",
        "max_lon = float(input(\"Maximum Longitude (e.g., 71.0): \") or 71.0)\n",
        "max_lat = float(input(\"Maximum Latitude (e.g., 27.0): \") or 27.0)\n",
        "\n",
        "west, east = (min_lon, max_lon) if min_lon < max_lon else (max_lon, min_lon)\n",
        "south, north = (min_lat, max_lat) if min_lat < max_lat else (max_lat, min_lat)\n",
        "\n",
        "roi = ee.Geometry.Rectangle([west, south, east, north])\n",
        "print(f\"Region of Interest set to: [west: {west}, south: {south}, east: {east}, north: {north}]\")\n",
        "\n",
        "# Define land_mask based on the user-defined roi\n",
        "water = ee.Image('JRC/GSW1_4/GlobalSurfaceWater').select('occurrence')\n",
        "land_mask = water.lt(30)\n",
        "\n",
        "scales = [30, 100, 500]\n",
        "for scale in scales:\n",
        "    try:\n",
        "        pixel_count = ee.Image(1).reduceRegion(\n",
        "            reducer=ee.Reducer.count(),\n",
        "            geometry=roi,\n",
        "            scale=scale,\n",
        "            maxPixels=MAX_PIXELS\n",
        "        ).getInfo().get('constant', 0)\n",
        "        print(f\"Estimated pixel count at {scale}m resolution: {pixel_count}\")\n",
        "    except ee.EEException as e:\n",
        "        print(f\"GEE Error estimating pixel count at {scale}m: {e}\")\n",
        "        raise SystemExit"
      ]
    },
    {
      "cell_type": "code",
      "execution_count": null,
      "metadata": {
        "colab": {
          "base_uri": "https://localhost:8080/"
        },
        "id": "2NEnXsO3kV8X",
        "outputId": "ba61f807-1e6f-4fef-84aa-59f564161f0f"
      },
      "outputs": [
        {
          "output_type": "stream",
          "name": "stderr",
          "text": [
            "\rValidating Region (Land Area Check):   0%|          | 0/1 [00:00<?, ?it/s]"
          ]
        },
        {
          "name": "stdout",
          "output_type": "stream",
          "text": [
            "Export task started: land_area. Check Google Drive folder 'Desertification_Validation' for 'land_area.tif'.\n",
            "Task <Task 3RMKA7P7TH37BGQGHLM5GS4R Type.EXPORT_IMAGE: land_area (State.UNSUBMITTED)> completed with status: COMPLETED\n",
            "Land area exported. Please manually calculate land percentage using the exported data.\n",
            "Enter the land percentage (0-100) after calculating from exported data: 90\n"
          ]
        },
        {
          "output_type": "stream",
          "name": "stderr",
          "text": [
            "Validating Region (Land Area Check): 100%|██████████| 1/1 [00:34<00:00, 34.62s/it]"
          ]
        },
        {
          "output_type": "stream",
          "name": "stdout",
          "text": [
            "Land Area Percentage in ROI: 90.00%\n"
          ]
        },
        {
          "output_type": "stream",
          "name": "stderr",
          "text": [
            "\n"
          ]
        }
      ],
      "source": [
        "# Step 6: Validate Region (Check for Land Area)\n",
        "with tqdm(total=1, desc=\"Validating Region (Land Area Check)\") as pbar:\n",
        "    water = ee.Image('JRC/GSW1_4/GlobalSurfaceWater').select('occurrence')\n",
        "    land_mask = water.lt(30)  # Relaxed from 10 to 20 to include more pixels\n",
        "    try:\n",
        "        land_area_task = export_to_drive(\n",
        "            image=land_mask,\n",
        "            description='land_area',\n",
        "            folder='Desertification_Validation',\n",
        "            scale=STAT_SCALE,\n",
        "            region=roi\n",
        "        )\n",
        "        wait_for_task(land_area_task)\n",
        "        print(\"Land area exported. Please manually calculate land percentage using the exported data.\")\n",
        "        land_percentage = float(input(\"Enter the land percentage (0-100) after calculating from exported data: \"))\n",
        "    except Exception as e:\n",
        "        print(f\"Error exporting land area: {e}\")\n",
        "        print(\"Falling back to direct computation.\")\n",
        "        try:\n",
        "            land_area = land_mask.reduceRegion(\n",
        "                reducer=ee.Reducer.sum(),\n",
        "                geometry=roi,\n",
        "                scale=STAT_SCALE,\n",
        "                maxPixels=MAX_PIXELS\n",
        "            ).getInfo().get('occurrence', 0)\n",
        "            total_pixels = land_mask.reduceRegion(\n",
        "                reducer=ee.Reducer.count(),\n",
        "                geometry=roi,\n",
        "                scale=STAT_SCALE,\n",
        "                maxPixels=MAX_PIXELS\n",
        "            ).getInfo().get('occurrence', 0)\n",
        "            land_percentage = (land_area / total_pixels * 100) if total_pixels > 0 else 0\n",
        "        except ee.EEException as e:\n",
        "            print(f\"GEE Error computing land percentage: {e}\")\n",
        "            raise SystemExit\n",
        "    pbar.update(1)\n",
        "\n",
        "print(f\"Land Area Percentage in ROI: {land_percentage:.2f}%\")\n",
        "if land_percentage < 50:\n",
        "    print(\"Warning: Less than 50% of the region is land. NDVI-based desertification analysis may be inaccurate.\")\n",
        "    print(\"Suggestion: Choose a region with more land (e.g., Thar Desert, India: [68.0, 24.0, 71.0, 27.0]).\")\n",
        "    user_choice = input(\"Do you want to proceed with the current region? (yes/no): \").strip().lower()\n",
        "    if user_choice != 'yes':\n",
        "        print(\"Exiting. Please rerun with a different region.\")\n",
        "        raise SystemExit\n",
        "    else:\n",
        "        print(\"Proceeding with analysis despite low land percentage. Results may be inaccurate.\")"
      ]
    },
    {
      "cell_type": "code",
      "execution_count": 10,
      "metadata": {
        "colab": {
          "base_uri": "https://localhost:8080/"
        },
        "id": "roj_eW-Okj4a",
        "outputId": "934bb792-b546-4405-86f4-18b09e579c0e"
      },
      "outputs": [
        {
          "output_type": "stream",
          "name": "stdout",
          "text": [
            "Step 7: Loading multisource data and features...\n",
            "Loading additional features (land cover, precipitation, temperature)...\n"
          ]
        },
        {
          "output_type": "stream",
          "name": "stderr",
          "text": [
            "\rLoading Features:   0%|          | 0/1 [00:00<?, ?it/s]"
          ]
        },
        {
          "output_type": "stream",
          "name": "stdout",
          "text": [
            "Land Cover: Valid pixels = 46348, Total pixels = 198662, Valid percentage = 23.33%\n",
            "Precipitation: Valid pixels = 46388, Total pixels = 198662, Valid percentage = 23.35%\n"
          ]
        },
        {
          "output_type": "stream",
          "name": "stderr",
          "text": [
            "Loading Features: 100%|██████████| 1/1 [01:23<00:00, 83.44s/it]\n"
          ]
        },
        {
          "output_type": "stream",
          "name": "stdout",
          "text": [
            "Temperature: Valid pixels = 44960, Total pixels = 198662, Valid percentage = 22.63%\n"
          ]
        },
        {
          "output_type": "stream",
          "name": "stderr",
          "text": [
            "\rLoading Multisource Data:   0%|          | 0/3 [00:00<?, ?it/s]"
          ]
        },
        {
          "output_type": "stream",
          "name": "stdout",
          "text": [
            "Landsat collection for 2016 contains 157 images.\n",
            "Landsat Image Bands for 2016: ['SR_B1', 'SR_B2', 'SR_B3', 'SR_B4', 'SR_B5', 'SR_B6', 'SR_B7', 'SR_QA_AEROSOL', 'ST_B10', 'ST_ATRAN', 'ST_CDIST', 'ST_DRAD', 'ST_EMIS', 'ST_EMSD', 'ST_QA', 'ST_TRAD', 'ST_URAD', 'QA_PIXEL', 'QA_RADSAT']\n",
            "Landsat NDVI 2016: Valid pixels = 46398, Total pixels = 198662, Valid percentage = 23.36%\n",
            "Sentinel-2 collection for 2016 contains 0 images.\n",
            "No Sentinel-2 images found for 2016. Skipping Sentinel-2 data.\n",
            "MODIS collection for 2016 contains 76 images.\n",
            "MODIS Image Bands for 2016: ['sur_refl_b01', 'sur_refl_b02', 'sur_refl_b03', 'sur_refl_b04', 'sur_refl_b05', 'sur_refl_b06', 'sur_refl_b07', 'QA', 'SolarZenith', 'ViewZenith', 'RelativeAzimuth', 'StateQA', 'DayOfYear']\n",
            "MODIS NDVI 2016: Valid pixels = 46398, Total pixels = 198662, Valid percentage = 23.36%\n",
            "Year 2016 added to available years with 2 data sources.\n",
            "Using Landsat NDVI for 2016 (Sentinel-2 unavailable).\n"
          ]
        },
        {
          "output_type": "stream",
          "name": "stderr",
          "text": [
            "\rLoading Multisource Data:  33%|███▎      | 1/3 [00:10<00:21, 10.52s/it]"
          ]
        },
        {
          "output_type": "stream",
          "name": "stdout",
          "text": [
            "Composite NDVI 2016: Valid pixels = 46398, Total pixels = 198662, Valid percentage = 23.36%\n",
            "Landsat collection for 2019 contains 171 images.\n",
            "Landsat Image Bands for 2019: ['SR_B1', 'SR_B2', 'SR_B3', 'SR_B4', 'SR_B5', 'SR_B6', 'SR_B7', 'SR_QA_AEROSOL', 'ST_B10', 'ST_ATRAN', 'ST_CDIST', 'ST_DRAD', 'ST_EMIS', 'ST_EMSD', 'ST_QA', 'ST_TRAD', 'ST_URAD', 'QA_PIXEL', 'QA_RADSAT']\n",
            "Landsat NDVI 2019: Valid pixels = 46398, Total pixels = 198662, Valid percentage = 23.36%\n",
            "Sentinel-2 collection for 2019 contains 1163 images.\n",
            "Sentinel-2 Image Bands for 2019: ['B1', 'B2', 'B3', 'B4', 'B5', 'B6', 'B7', 'B8', 'B8A', 'B9', 'B11', 'B12', 'AOT', 'WVP', 'SCL', 'TCI_R', 'TCI_G', 'TCI_B', 'MSK_CLDPRB', 'MSK_SNWPRB', 'QA10', 'QA20', 'QA60', 'MSK_CLASSI_OPAQUE', 'MSK_CLASSI_CIRRUS', 'MSK_CLASSI_SNOW_ICE']\n",
            "Sentinel-2 NDVI 2019: Valid pixels = 46398, Total pixels = 198662, Valid percentage = 23.36%\n",
            "MODIS collection for 2019 contains 76 images.\n",
            "MODIS Image Bands for 2019: ['sur_refl_b01', 'sur_refl_b02', 'sur_refl_b03', 'sur_refl_b04', 'sur_refl_b05', 'sur_refl_b06', 'sur_refl_b07', 'QA', 'SolarZenith', 'ViewZenith', 'RelativeAzimuth', 'StateQA', 'DayOfYear']\n"
          ]
        },
        {
          "output_type": "stream",
          "name": "stderr",
          "text": [
            "\rLoading Multisource Data:  67%|██████▋   | 2/3 [01:02<00:34, 34.68s/it]"
          ]
        },
        {
          "output_type": "stream",
          "name": "stdout",
          "text": [
            "MODIS NDVI 2019: Valid pixels = 46398, Total pixels = 198662, Valid percentage = 23.36%\n",
            "Year 2019 added to available years with 3 data sources.\n",
            "Using Sentinel-2 NDVI for 2019.\n",
            "Composite NDVI 2019: Valid pixels = 46398, Total pixels = 198662, Valid percentage = 23.36%\n",
            "Landsat collection for 2023 contains 145 images.\n",
            "Landsat Image Bands for 2023: ['SR_B1', 'SR_B2', 'SR_B3', 'SR_B4', 'SR_B5', 'SR_B6', 'SR_B7', 'SR_QA_AEROSOL', 'ST_B10', 'ST_ATRAN', 'ST_CDIST', 'ST_DRAD', 'ST_EMIS', 'ST_EMSD', 'ST_QA', 'ST_TRAD', 'ST_URAD', 'QA_PIXEL', 'QA_RADSAT']\n",
            "Landsat NDVI 2023: Valid pixels = 46398, Total pixels = 198662, Valid percentage = 23.36%\n",
            "Sentinel-2 collection for 2023 contains 1287 images.\n",
            "Sentinel-2 Image Bands for 2023: ['B1', 'B2', 'B3', 'B4', 'B5', 'B6', 'B7', 'B8', 'B8A', 'B9', 'B11', 'B12', 'AOT', 'WVP', 'SCL', 'TCI_R', 'TCI_G', 'TCI_B', 'MSK_CLDPRB', 'MSK_SNWPRB', 'QA10', 'QA20', 'QA60', 'MSK_CLASSI_OPAQUE', 'MSK_CLASSI_CIRRUS', 'MSK_CLASSI_SNOW_ICE']\n",
            "Sentinel-2 NDVI 2023: Valid pixels = 46398, Total pixels = 198662, Valid percentage = 23.36%\n",
            "MODIS collection for 2023 contains 76 images.\n",
            "MODIS Image Bands for 2023: ['sur_refl_b01', 'sur_refl_b02', 'sur_refl_b03', 'sur_refl_b04', 'sur_refl_b05', 'sur_refl_b06', 'sur_refl_b07', 'QA', 'SolarZenith', 'ViewZenith', 'RelativeAzimuth', 'StateQA', 'DayOfYear']\n",
            "MODIS NDVI 2023: Valid pixels = 46398, Total pixels = 198662, Valid percentage = 23.36%\n",
            "Year 2023 added to available years with 3 data sources.\n",
            "Using Sentinel-2 NDVI for 2023.\n"
          ]
        },
        {
          "output_type": "stream",
          "name": "stderr",
          "text": [
            "Loading Multisource Data: 100%|██████████| 3/3 [01:41<00:00, 33.95s/it]"
          ]
        },
        {
          "output_type": "stream",
          "name": "stdout",
          "text": [
            "Composite NDVI 2023: Valid pixels = 46398, Total pixels = 198662, Valid percentage = 23.36%\n",
            "Step 7 completed: Multisource data and features loaded successfully.\n",
            "Available years: ['2016', '2019', '2023']\n",
            "NDVI Before (2016): ['NDVI']\n"
          ]
        },
        {
          "output_type": "stream",
          "name": "stderr",
          "text": [
            "\n"
          ]
        },
        {
          "output_type": "stream",
          "name": "stdout",
          "text": [
            "NDVI Mid (2019): ['NDVI']\n",
            "NDVI After (2023): ['NDVI']\n",
            "Land Cover: ['Map']\n",
            "Precipitation: ['precipitation']\n",
            "Temperature: ['temperature_2m']\n"
          ]
        }
      ],
      "source": [
        "# Step 7: Load Multisource Data (Landsat 8, Sentinel-2, MODIS) and Features\n",
        "print(\"Step 7: Loading multisource data and features...\")\n",
        "\n",
        "# Cloud masking functions\n",
        "def mask_clouds_landsat(image):\n",
        "    qa = image.select('QA_PIXEL')\n",
        "    cloud_bit_mask = 1 << 3\n",
        "    cloud_shadow_bit_mask = 1 << 5\n",
        "    cirrus_bit_mask = 1 << 2\n",
        "    radsat = image.select('QA_RADSAT')\n",
        "    radsat_mask = radsat.eq(0)\n",
        "    mask = (qa.bitwiseAnd(cloud_bit_mask).eq(0)\n",
        "            .And(qa.bitwiseAnd(cloud_shadow_bit_mask).eq(0))\n",
        "            .And(qa.bitwiseAnd(cirrus_bit_mask).eq(0))\n",
        "            .And(radsat_mask))\n",
        "    return image.updateMask(mask).updateMask(land_mask)\n",
        "\n",
        "def mask_clouds_sentinel(image):\n",
        "    qa = image.select('QA60')\n",
        "    cloud_bit_mask = 1 << 10\n",
        "    cirrus_bit_mask = 1 << 11\n",
        "    mask = (qa.bitwiseAnd(cloud_bit_mask).eq(0)\n",
        "            .And(qa.bitwiseAnd(cirrus_bit_mask).eq(0)))\n",
        "    return image.updateMask(mask).updateMask(land_mask)\n",
        "\n",
        "def mask_clouds_modis(image):\n",
        "    qa = image.select('StateQA')\n",
        "    cloud_mask = qa.bitwiseAnd(1 << 0).eq(0)\n",
        "    shadow_mask = qa.bitwiseAnd(1 << 2).eq(0)\n",
        "    mask = cloud_mask.And(shadow_mask)\n",
        "    return image.updateMask(mask).updateMask(land_mask)\n",
        "\n",
        "# Load land cover, precipitation, and temperature (static for the study period)\n",
        "print(\"Loading additional features (land cover, precipitation, temperature)...\")\n",
        "with tqdm(total=1, desc=\"Loading Features\") as pbar:\n",
        "    try:\n",
        "        # Land Cover: ESA WorldCover 2021\n",
        "        land_cover = (ee.ImageCollection('ESA/WorldCover/v200')\n",
        "                      .filterDate('2021-01-01', '2022-01-01')\n",
        "                      .first()\n",
        "                      .select('Map')\n",
        "                      .clip(roi))\n",
        "\n",
        "        # Precipitation: CHIRPS Daily, annual mean for the study period (2016-2023)\n",
        "        precipitation_collection = (ee.ImageCollection('UCSB-CHG/CHIRPS/DAILY')\n",
        "                                   .filterDate('2016-01-01', '2023-12-31')\n",
        "                                   .filterBounds(roi)\n",
        "                                   .select('precipitation'))\n",
        "        precipitation = precipitation_collection.mean().clip(roi)\n",
        "\n",
        "        # Temperature: ERA5-Land, annual mean surface temperature (2m temperature)\n",
        "        temperature_collection = (ee.ImageCollection('ECMWF/ERA5_LAND/DAILY_AGGR')\n",
        "                                 .filterDate('2016-01-01', '2023-12-31')\n",
        "                                 .filterBounds(roi)\n",
        "                                 .select('temperature_2m'))\n",
        "        temperature = temperature_collection.mean().clip(roi)\n",
        "\n",
        "        # Apply land mask to features\n",
        "        land_cover = land_cover.updateMask(land_mask)\n",
        "        precipitation = precipitation.updateMask(land_mask)\n",
        "        temperature = temperature.updateMask(land_mask)\n",
        "\n",
        "        # Debug: Check valid pixels in features\n",
        "        for feature, name in [(land_cover, 'Land Cover'), (precipitation, 'Precipitation'), (temperature, 'Temperature')]:\n",
        "            valid_pixel_count = feature.reduceRegion(\n",
        "                reducer=ee.Reducer.count(),\n",
        "                geometry=roi,\n",
        "                scale=STAT_SCALE,\n",
        "                maxPixels=MAX_PIXELS\n",
        "            ).getInfo().get(feature.bandNames().get(0).getInfo(), 0)\n",
        "            total_pixel_count = ee.Image(1).reduceRegion(\n",
        "                reducer=ee.Reducer.count(),\n",
        "                geometry=roi,\n",
        "                scale=STAT_SCALE,\n",
        "                maxPixels=MAX_PIXELS\n",
        "            ).getInfo().get('constant', 0)\n",
        "            valid_percentage = (valid_pixel_count / total_pixel_count) * 100 if total_pixel_count > 0 else 0\n",
        "            print(f\"{name}: Valid pixels = {valid_pixel_count}, Total pixels = {total_pixel_count}, Valid percentage = {valid_percentage:.2f}%\")\n",
        "    except ee.EEException as e:\n",
        "        print(f\"GEE Error loading features: {e}\")\n",
        "        raise ValueError(\"Step 7 failed: Unable to load land cover, precipitation, or temperature.\")\n",
        "    pbar.update(1)\n",
        "\n",
        "# Load multisource NDVI data\n",
        "years = ['2016', '2019', '2023']\n",
        "landsat_ndvi = {}\n",
        "sentinel_ndvi = {}\n",
        "modis_ndvi = {}\n",
        "ndvi_images = {}\n",
        "available_years = []\n",
        "\n",
        "for year in tqdm(years, desc=\"Loading Multisource Data\"):\n",
        "    start_date = f'{int(year) - 1}-10-01'\n",
        "    end_date = f'{int(year) + 1}-05-31'\n",
        "\n",
        "    # Landsat 8\n",
        "    landsat_collection = (ee.ImageCollection(\"LANDSAT/LC08/C02/T1_L2\")\n",
        "                          .filterBounds(roi)\n",
        "                          .filterDate(start_date, end_date)\n",
        "                          .filter(ee.Filter.lt('CLOUD_COVER', 50))\n",
        "                          .map(mask_clouds_landsat))\n",
        "    try:\n",
        "        landsat_count = landsat_collection.size().getInfo()\n",
        "        print(f\"Landsat collection for {year} contains {landsat_count} images.\")\n",
        "        if landsat_count == 0:\n",
        "            print(f\"No Landsat images found for {year}. Skipping Landsat data.\")\n",
        "            landsat_ndvi[year] = None\n",
        "        else:\n",
        "            landsat_img = landsat_collection.median()\n",
        "            landsat_bands = landsat_img.bandNames().getInfo()\n",
        "            print(f\"Landsat Image Bands for {year}: {landsat_bands}\")\n",
        "            if not landsat_bands:\n",
        "                print(f\"Landsat image for {year} has no bands. Skipping Landsat data.\")\n",
        "                landsat_ndvi[year] = None\n",
        "            else:\n",
        "                landsat_scaled = landsat_img.select(['SR_B5', 'SR_B4']).multiply(0.0000275).add(-0.2).rename(['NIR', 'Red'])\n",
        "                landsat_ndvi[year] = landsat_scaled.normalizedDifference(['NIR', 'Red']).rename('NDVI').clip(roi)\n",
        "                # Debug: Check valid pixels\n",
        "                valid_pixel_count = landsat_ndvi[year].reduceRegion(\n",
        "                    reducer=ee.Reducer.count(),\n",
        "                    geometry=roi,\n",
        "                    scale=STAT_SCALE,\n",
        "                    maxPixels=MAX_PIXELS\n",
        "                ).getInfo().get('NDVI', 0)\n",
        "                total_pixel_count = ee.Image(1).reduceRegion(\n",
        "                    reducer=ee.Reducer.count(),\n",
        "                    geometry=roi,\n",
        "                    scale=STAT_SCALE,\n",
        "                    maxPixels=MAX_PIXELS\n",
        "                ).getInfo().get('constant', 0)\n",
        "                valid_percentage = (valid_pixel_count / total_pixel_count) * 100 if total_pixel_count > 0 else 0\n",
        "                print(f\"Landsat NDVI {year}: Valid pixels = {valid_pixel_count}, Total pixels = {total_pixel_count}, Valid percentage = {valid_percentage:.2f}%\")\n",
        "    except ee.EEException as e:\n",
        "        print(f\"GEE Error loading Landsat data for {year}: {str(e)}\")\n",
        "        landsat_ndvi[year] = None\n",
        "\n",
        "    # Sentinel-2\n",
        "    sentinel_collection = (ee.ImageCollection(\"COPERNICUS/S2_SR_HARMONIZED\")\n",
        "                           .filterBounds(roi)\n",
        "                           .filterDate(start_date, end_date)\n",
        "                           .filter(ee.Filter.lt('CLOUDY_PIXEL_PERCENTAGE', 50))  # Relaxed from 30 to 50\n",
        "                           .map(mask_clouds_sentinel))\n",
        "    try:\n",
        "        sentinel_count = sentinel_collection.size().getInfo()\n",
        "        print(f\"Sentinel-2 collection for {year} contains {sentinel_count} images.\")\n",
        "        if sentinel_count == 0:\n",
        "            print(f\"No Sentinel-2 images found for {year}. Skipping Sentinel-2 data.\")\n",
        "            sentinel_ndvi[year] = None\n",
        "        else:\n",
        "            sentinel_img = sentinel_collection.median()\n",
        "            sentinel_bands = sentinel_img.bandNames().getInfo()\n",
        "            print(f\"Sentinel-2 Image Bands for {year}: {sentinel_bands}\")\n",
        "            if not sentinel_bands:\n",
        "                print(f\"Sentinel-2 image for {year} has no bands. Skipping Sentinel-2 data.\")\n",
        "                sentinel_ndvi[year] = None\n",
        "            else:\n",
        "                sentinel_scaled = sentinel_img.select(['B8', 'B4']).multiply(0.0001).rename(['NIR', 'Red'])\n",
        "                sentinel_ndvi[year] = sentinel_scaled.normalizedDifference(['NIR', 'Red']).rename('NDVI').clip(roi)\n",
        "                # Debug: Check valid pixels\n",
        "                valid_pixel_count = sentinel_ndvi[year].reduceRegion(\n",
        "                    reducer=ee.Reducer.count(),\n",
        "                    geometry=roi,\n",
        "                    scale=STAT_SCALE,\n",
        "                    maxPixels=MAX_PIXELS\n",
        "                ).getInfo().get('NDVI', 0)\n",
        "                total_pixel_count = ee.Image(1).reduceRegion(\n",
        "                    reducer=ee.Reducer.count(),\n",
        "                    geometry=roi,\n",
        "                    scale=STAT_SCALE,\n",
        "                    maxPixels=MAX_PIXELS\n",
        "                ).getInfo().get('constant', 0)\n",
        "                valid_percentage = (valid_pixel_count / total_pixel_count) * 100 if total_pixel_count > 0 else 0\n",
        "                print(f\"Sentinel-2 NDVI {year}: Valid pixels = {valid_pixel_count}, Total pixels = {total_pixel_count}, Valid percentage = {valid_percentage:.2f}%\")\n",
        "    except ee.EEException as e:\n",
        "        print(f\"GEE Error loading Sentinel-2 data for {year}: {str(e)}\")\n",
        "        sentinel_ndvi[year] = None\n",
        "\n",
        "    # MODIS\n",
        "    modis_collection = (ee.ImageCollection(\"MODIS/061/MOD09A1\")\n",
        "                        .filterBounds(roi)\n",
        "                        .filterDate(start_date, end_date)\n",
        "                        .map(mask_clouds_modis))\n",
        "    try:\n",
        "        modis_count = modis_collection.size().getInfo()\n",
        "        print(f\"MODIS collection for {year} contains {modis_count} images.\")\n",
        "        if modis_count == 0:\n",
        "            print(f\"No MODIS images found for {year}. Skipping MODIS data.\")\n",
        "            modis_ndvi[year] = None\n",
        "        else:\n",
        "            modis_img = modis_collection.median()\n",
        "            modis_bands = modis_img.bandNames().getInfo()\n",
        "            print(f\"MODIS Image Bands for {year}: {modis_bands}\")\n",
        "            if not modis_bands:\n",
        "                print(f\"MODIS image for {year} has no bands. Skipping MODIS data.\")\n",
        "                modis_ndvi[year] = None\n",
        "            else:\n",
        "                modis_scaled = modis_img.select(['sur_refl_b02', 'sur_refl_b01']).multiply(0.0001).rename(['NIR', 'Red'])\n",
        "                modis_ndvi[year] = modis_scaled.normalizedDifference(['NIR', 'Red']).rename('NDVI').clip(roi)\n",
        "                # Debug: Check valid pixels\n",
        "                valid_pixel_count = modis_ndvi[year].reduceRegion(\n",
        "                    reducer=ee.Reducer.count(),\n",
        "                    geometry=roi,\n",
        "                    scale=STAT_SCALE,\n",
        "                    maxPixels=MAX_PIXELS\n",
        "                ).getInfo().get('NDVI', 0)\n",
        "                total_pixel_count = ee.Image(1).reduceRegion(\n",
        "                    reducer=ee.Reducer.count(),\n",
        "                    geometry=roi,\n",
        "                    scale=STAT_SCALE,\n",
        "                    maxPixels=MAX_PIXELS\n",
        "                ).getInfo().get('constant', 0)\n",
        "                valid_percentage = (valid_pixel_count / total_pixel_count) * 100 if total_pixel_count > 0 else 0\n",
        "                print(f\"MODIS NDVI {year}: Valid pixels = {valid_pixel_count}, Total pixels = {total_pixel_count}, Valid percentage = {valid_percentage:.2f}%\")\n",
        "    except ee.EEException as e:\n",
        "        print(f\"GEE Error loading MODIS data for {year}: {str(e)}\")\n",
        "        modis_ndvi[year] = None\n",
        "\n",
        "    # Combine NDVI data: Prioritize Sentinel-2 > Landsat 8 > MODIS\n",
        "    sources_available = sum(1 for ndvi in [landsat_ndvi.get(year), sentinel_ndvi.get(year), modis_ndvi.get(year)] if ndvi is not None)\n",
        "    if sources_available >= 2:\n",
        "        available_years.append(year)\n",
        "        print(f\"Year {year} added to available years with {sources_available} data sources.\")\n",
        "        # Create composite NDVI: Use Sentinel-2 if available, then Landsat, then MODIS\n",
        "        if sentinel_ndvi.get(year) is not None:\n",
        "            ndvi_images[year] = sentinel_ndvi[year]\n",
        "            print(f\"Using Sentinel-2 NDVI for {year}.\")\n",
        "        elif landsat_ndvi.get(year) is not None:\n",
        "            ndvi_images[year] = landsat_ndvi[year]\n",
        "            print(f\"Using Landsat NDVI for {year} (Sentinel-2 unavailable).\")\n",
        "        else:\n",
        "            ndvi_images[year] = modis_ndvi[year]\n",
        "            print(f\"Using MODIS NDVI for {year} (Sentinel-2 and Landsat unavailable).\")\n",
        "        # Debug: Check valid pixels in the composite\n",
        "        valid_pixel_count = ndvi_images[year].reduceRegion(\n",
        "            reducer=ee.Reducer.count(),\n",
        "            geometry=roi,\n",
        "            scale=STAT_SCALE,\n",
        "            maxPixels=MAX_PIXELS\n",
        "        ).getInfo().get('NDVI', 0)\n",
        "        total_pixel_count = ee.Image(1).reduceRegion(\n",
        "            reducer=ee.Reducer.count(),\n",
        "            geometry=roi,\n",
        "            scale=STAT_SCALE,\n",
        "            maxPixels=MAX_PIXELS\n",
        "        ).getInfo().get('constant', 0)\n",
        "        valid_percentage = (valid_pixel_count / total_pixel_count) * 100 if total_pixel_count > 0 else 0\n",
        "        print(f\"Composite NDVI {year}: Valid pixels = {valid_pixel_count}, Total pixels = {total_pixel_count}, Valid percentage = {valid_percentage:.2f}%\")\n",
        "    else:\n",
        "        print(f\"Year {year} skipped: Only {sources_available} data source(s) available. Need at least 2.\")\n",
        "\n",
        "if len(available_years) < 2:\n",
        "    print(\"Error: At least two years of NDVI data are required to compute NDVI change.\")\n",
        "    print(\"Available years with data:\", available_years)\n",
        "    print(\"Suggestions:\")\n",
        "    print(\"1. Choose a larger region (current region might be too small or over water).\")\n",
        "    print(\"2. Use a different date range (e.g., ['2015', '2020']).\")\n",
        "    print(\"3. Select a region with known coverage (e.g., Thar Desert, India: [68.0, 24.0, 71.0, 27.0]).\")\n",
        "    raise ValueError(\"Step 7 failed: Insufficient years with data.\")\n",
        "\n",
        "# Assign NDVI images for before, mid, and after\n",
        "ndvi_before = ndvi_images[available_years[0]]\n",
        "ndvi_mid = ndvi_images[available_years[len(available_years)//2]] if len(available_years) > 2 else None\n",
        "ndvi_after = ndvi_images[available_years[-1]]\n",
        "\n",
        "print(\"Step 7 completed: Multisource data and features loaded successfully.\")\n",
        "print(f\"Available years: {available_years}\")\n",
        "print(f\"NDVI Before ({available_years[0]}): {ndvi_before.bandNames().getInfo()}\")\n",
        "if ndvi_mid is not None:\n",
        "    print(f\"NDVI Mid ({available_years[len(available_years)//2]}): {ndvi_mid.bandNames().getInfo()}\")\n",
        "print(f\"NDVI After ({available_years[-1]}): {ndvi_after.bandNames().getInfo()}\")\n",
        "print(f\"Land Cover: {land_cover.bandNames().getInfo()}\")\n",
        "print(f\"Precipitation: {precipitation.bandNames().getInfo()}\")\n",
        "print(f\"Temperature: {temperature.bandNames().getInfo()}\")"
      ]
    },
    {
      "cell_type": "code",
      "execution_count": 11,
      "metadata": {
        "colab": {
          "base_uri": "https://localhost:8080/"
        },
        "id": "T0cissyRkyvS",
        "outputId": "f8dfa44f-772e-44f8-c9a6-60ce89b932f6"
      },
      "outputs": [
        {
          "output_type": "stream",
          "name": "stderr",
          "text": [
            "Fusing NDVI Data: 100%|██████████| 3/3 [00:00<00:00, 1401.68it/s]"
          ]
        },
        {
          "output_type": "stream",
          "name": "stdout",
          "text": [
            "NDVI change computed between 2016 and 2023.\n"
          ]
        },
        {
          "output_type": "stream",
          "name": "stderr",
          "text": [
            "\n"
          ]
        }
      ],
      "source": [
        "# Step 8: Multisource Fusion (Weighted Average NDVI)\n",
        "def prepare_ndvi_stack(landsat_ndvi, sentinel_ndvi, modis_ndvi, available_years):\n",
        "    with tqdm(total=len(available_years), desc=\"Fusing NDVI Data\") as pbar:\n",
        "        fused_ndvi = {}\n",
        "        for year in available_years:\n",
        "            ndvi_layers = []\n",
        "            weights = []\n",
        "            if landsat_ndvi.get(year):\n",
        "                ndvi_layers.append(landsat_ndvi[year])\n",
        "                weights.append(0.4)\n",
        "            if sentinel_ndvi.get(year):\n",
        "                ndvi_layers.append(sentinel_ndvi[year])\n",
        "                weights.append(0.4)\n",
        "            if modis_ndvi.get(year):\n",
        "                ndvi_layers.append(modis_ndvi[year])\n",
        "                weights.append(0.2)\n",
        "\n",
        "            total_weight = sum(weights)\n",
        "            weights = [w / total_weight for w in weights] if total_weight > 0 else weights\n",
        "\n",
        "            fused = ee.Image(0)\n",
        "            for layer, weight in zip(ndvi_layers, weights):\n",
        "                fused = fused.add(layer.multiply(weight))\n",
        "            fused_ndvi[year] = fused.rename(f'NDVI_{year}')\n",
        "            pbar.update(1)\n",
        "    available_years.sort()\n",
        "    ndvi_before = fused_ndvi[available_years[0]]\n",
        "    ndvi_mid = fused_ndvi[available_years[len(available_years)//2]] if len(available_years) > 2 else None\n",
        "    ndvi_after = fused_ndvi[available_years[-1]]\n",
        "    ndvi_change = ndvi_after.subtract(ndvi_before).rename('NDVI_Change')\n",
        "    return ndvi_before, ndvi_mid, ndvi_after, ndvi_change, available_years\n",
        "\n",
        "try:\n",
        "    ndvi_before, ndvi_mid, ndvi_after, ndvi_change, available_years = prepare_ndvi_stack(\n",
        "        landsat_ndvi, sentinel_ndvi, modis_ndvi, available_years\n",
        "    )\n",
        "    print(f\"NDVI change computed between {available_years[0]} and {available_years[-1]}.\")\n",
        "except Exception as e:\n",
        "    print(f\"Error in Step 8: {e}\")\n",
        "    print(\"Ensure that landsat_ndvi, sentinel_ndvi, modis_ndvi, and available_years are defined from Step 7.\")\n",
        "    raise SystemExit"
      ]
    },
    {
      "cell_type": "code",
      "execution_count": 12,
      "metadata": {
        "colab": {
          "base_uri": "https://localhost:8080/"
        },
        "id": "BDWP2pJKlG8a",
        "outputId": "ff05361e-ab1a-46b2-bae9-0fbac2b4d6ce"
      },
      "outputs": [
        {
          "output_type": "stream",
          "name": "stderr",
          "text": [
            "Computing NDVI Change: 100%|██████████| 1/1 [00:34<00:00, 34.71s/it]"
          ]
        },
        {
          "output_type": "stream",
          "name": "stdout",
          "text": [
            "Mean NDVI Change: 0.020366502400826363\n",
            "Std Dev NDVI Change: 0.04546757971704766\n",
            "Dynamic Desertification Threshold: -0.025101077316221295\n"
          ]
        },
        {
          "output_type": "stream",
          "name": "stderr",
          "text": [
            "\n"
          ]
        }
      ],
      "source": [
        "# Step 9: NDVI Change Analysis\n",
        "with tqdm(total=1, desc=\"Computing NDVI Change\") as pbar:\n",
        "    # Compute NDVI change (e.g., 2023 - 2016)\n",
        "    ndvi_change = ndvi_after.subtract(ndvi_before).rename('NDVI_Change')\n",
        "\n",
        "    # Compute statistics for NDVI change\n",
        "    ndvi_change_stats = ndvi_change.reduceRegion(\n",
        "        reducer=ee.Reducer.mean().combine(\n",
        "            reducer2=ee.Reducer.stdDev(),\n",
        "            sharedInputs=True\n",
        "        ),\n",
        "        geometry=roi,\n",
        "        scale=STAT_SCALE,\n",
        "        maxPixels=MAX_PIXELS\n",
        "    ).getInfo()\n",
        "\n",
        "    mean_ndvi_change = ndvi_change_stats.get('NDVI_Change_mean', 0)\n",
        "    std_dev_ndvi_change = ndvi_change_stats.get('NDVI_Change_stdDev', 0)\n",
        "\n",
        "    print(f\"Mean NDVI Change: {mean_ndvi_change}\")\n",
        "    print(f\"Std Dev NDVI Change: {std_dev_ndvi_change}\")\n",
        "\n",
        "    # Calculate dynamic desertification threshold (current method)\n",
        "    threshold = mean_ndvi_change - std_dev_ndvi_change\n",
        "    print(f\"Dynamic Desertification Threshold: {threshold}\")\n",
        "\n",
        "    # Classify pixels as desertified (1) or non-desertified (0) based on NDVI change\n",
        "    desertification = ndvi_change.lt(threshold).rename('desertification')\n",
        "\n",
        "    pbar.update(1)"
      ]
    },
    {
      "cell_type": "code",
      "execution_count": 13,
      "metadata": {
        "colab": {
          "base_uri": "https://localhost:8080/"
        },
        "id": "pixk_PDyjd5U",
        "outputId": "65bd5f3d-6213-4fb5-e42a-0d51e7c826ee"
      },
      "outputs": [
        {
          "output_type": "stream",
          "name": "stdout",
          "text": [
            "Executing Step 10...\n",
            "Starting Step 10: Training Random Forest classifier...\n",
            "Preparing feature stack...\n",
            "Estimating pixel count...\n",
            "Estimated pixel count at 500m resolution: 198662\n",
            "Checking for valid pixels in ndvi_change...\n",
            "Number of valid pixels in ndvi_change: 46398\n",
            "NDVI Change Statistics Raw Output: {'NDVI_Change_mean': 0.020366502400826363, 'NDVI_Change_stdDev': 0.04546757971704766}\n",
            "NDVI Change Statistics:\n",
            "Mean NDVI Change: 0.020366502400826363\n",
            "Std Dev NDVI Change: 0.04546757971704766\n",
            "Dynamic Desertification Threshold: -0.025101077316221295\n",
            "Generating synthetic labels...\n",
            "Checking label distribution...\n",
            "Attempting direct computation of label distribution...\n",
            "Label Distribution (0 = non-desertified, 1 = desertified): {'0': 40382.70588235284, '1': 5864.4745098039275}\n",
            "Sampling training data...\n"
          ]
        },
        {
          "output_type": "stream",
          "name": "stderr",
          "text": [
            "Sampling Training Data for Random Forest: 100%|██████████| 1/1 [00:00<00:00, 1788.62it/s]\n"
          ]
        },
        {
          "output_type": "stream",
          "name": "stdout",
          "text": [
            "Converting sample to FeatureCollection...\n",
            "Training Random Forest classifier...\n"
          ]
        },
        {
          "output_type": "stream",
          "name": "stderr",
          "text": [
            "Training Random Forest: 100%|██████████| 1/1 [00:00<00:00, 5737.76it/s]\n"
          ]
        },
        {
          "output_type": "stream",
          "name": "stdout",
          "text": [
            "Applying Random Forest classifier to the entire image...\n"
          ]
        },
        {
          "output_type": "stream",
          "name": "stderr",
          "text": [
            "Applying Random Forest Classifier: 100%|██████████| 1/1 [00:00<00:00, 4777.11it/s]\n"
          ]
        },
        {
          "output_type": "stream",
          "name": "stdout",
          "text": [
            "Sampling evaluation data and applying classifier...\n"
          ]
        },
        {
          "output_type": "stream",
          "name": "stderr",
          "text": [
            "Sampling Evaluation Data for Random Forest: 100%|██████████| 1/1 [01:05<00:00, 65.23s/it]"
          ]
        },
        {
          "output_type": "stream",
          "name": "stdout",
          "text": [
            "Random Forest Classification Report (Evaluation Sample):\n",
            "              precision    recall  f1-score   support\n",
            "\n",
            "           0       0.98      1.00      0.99       873\n",
            "           1       0.99      0.87      0.93       126\n",
            "\n",
            "    accuracy                           0.98       999\n",
            "   macro avg       0.99      0.94      0.96       999\n",
            "weighted avg       0.98      0.98      0.98       999\n",
            "\n",
            "Confusion Matrix:\n",
            "[[872   1]\n",
            " [ 16 110]]\n",
            "ROC AUC Score: 0.94\n",
            "Step 10 completed successfully.\n",
            "Step 10 completed: Random Forest classification finished. 'desertification' variable defined.\n"
          ]
        },
        {
          "output_type": "stream",
          "name": "stderr",
          "text": [
            "\n"
          ]
        }
      ],
      "source": [
        "# Step 10: Supervised Machine Learning (Random Forest) for Desertification Classification\n",
        "def train_rf_classifier(ndvi_before, ndvi_mid, ndvi_after, ndvi_change, land_cover, precipitation, temperature, roi, available_years):\n",
        "    print(\"Starting Step 10: Training Random Forest classifier...\")\n",
        "\n",
        "    # Prepare feature stack\n",
        "    print(\"Preparing feature stack...\")\n",
        "    feature_stack_bands = [ndvi_before.rename('NDVI_' + available_years[0])]\n",
        "    if ndvi_mid is not None:\n",
        "        feature_stack_bands.append(ndvi_mid.rename('NDVI_' + available_years[len(available_years)//2]))\n",
        "    feature_stack_bands.append(ndvi_after.rename('NDVI_' + available_years[-1]))\n",
        "    feature_stack_bands.extend([land_cover.rename('land_cover'), precipitation.rename('precipitation'), temperature.rename('temperature')])\n",
        "    feature_stack = ee.Image.cat(feature_stack_bands).clip(roi)\n",
        "\n",
        "    # Estimate pixel count to guide scale selection\n",
        "    print(\"Estimating pixel count...\")\n",
        "    try:\n",
        "        pixel_count = ee.Image(1).reduceRegion(\n",
        "            reducer=ee.Reducer.count(),\n",
        "            geometry=roi,\n",
        "            scale=500,\n",
        "            maxPixels=MAX_PIXELS\n",
        "        ).getInfo().get('constant', 0)\n",
        "        print(f\"Estimated pixel count at 500m resolution: {pixel_count}\")\n",
        "        if pixel_count > 1e7:\n",
        "            print(\"Warning: High pixel count may cause timeouts or memory limits to be exceeded. Consider reducing ROI size or increasing scale.\")\n",
        "    except ee.EEException as e:\n",
        "        print(f\"GEE Error estimating pixel count: {e}\")\n",
        "        print(\"Proceeding with caution; computation may fail due to memory limits.\")\n",
        "\n",
        "    # Check for valid pixels in ndvi_change\n",
        "    print(\"Checking for valid pixels in ndvi_change...\")\n",
        "    try:\n",
        "        valid_pixel_count = ndvi_change.reduceRegion(\n",
        "            reducer=ee.Reducer.count(),\n",
        "            geometry=roi,\n",
        "            scale=500,\n",
        "            maxPixels=MAX_PIXELS\n",
        "        ).getInfo().get('NDVI_Change', 0)\n",
        "        print(f\"Number of valid pixels in ndvi_change: {valid_pixel_count}\")\n",
        "        if valid_pixel_count == 0:\n",
        "            print(\"Error: No valid pixels in ndvi_change image. Cannot compute statistics.\")\n",
        "            print(\"Suggestions:\")\n",
        "            print(\"1. Check if the land mask is too strict (e.g., relax water.lt(20) further).\")\n",
        "            print(\"2. Use a smaller ROI to ensure valid data (e.g., [69.0, 25.0, 70.0, 26.0]).\")\n",
        "            print(\"3. Verify the NDVI data sources for masking issues.\")\n",
        "            print(\"Falling back to default DESERTIFICATION_CHANGE threshold.\")\n",
        "            dynamic_threshold = DESERTIFICATION_CHANGE\n",
        "        else:\n",
        "            try:\n",
        "                ndvi_stats = ndvi_change.reduceRegion(\n",
        "                    reducer=ee.Reducer.mean().combine(ee.Reducer.stdDev(), None, True),\n",
        "                    geometry=roi,\n",
        "                    scale=500,\n",
        "                    maxPixels=MAX_PIXELS\n",
        "                ).getInfo()\n",
        "                print(f\"NDVI Change Statistics Raw Output: {ndvi_stats}\")\n",
        "                if ndvi_stats is None or not ndvi_stats:\n",
        "                    print(\"Error: ndvi_stats is None or empty. Falling back to default threshold.\")\n",
        "                    dynamic_threshold = DESERTIFICATION_CHANGE\n",
        "                else:\n",
        "                    mean_change = ndvi_stats.get('NDVI_Change_mean', 0)\n",
        "                    std_change = ndvi_stats.get('NDVI_Change_stdDev', 0)\n",
        "                    if mean_change is None or std_change is None:\n",
        "                        print(\"Error: Mean or stdDev is None. Falling back to default threshold.\")\n",
        "                        dynamic_threshold = DESERTIFICATION_CHANGE\n",
        "                    else:\n",
        "                        dynamic_threshold = mean_change - std_change\n",
        "                        print(\"NDVI Change Statistics:\")\n",
        "                        print(f\"Mean NDVI Change: {mean_change}\")\n",
        "                        print(f\"Std Dev NDVI Change: {std_change}\")\n",
        "                        print(f\"Dynamic Desertification Threshold: {dynamic_threshold}\")\n",
        "            except ee.EEException as e:\n",
        "                print(f\"GEE Error computing NDVI change statistics: {e}\")\n",
        "                print(\"Using default DESERTIFICATION_CHANGE threshold.\")\n",
        "                dynamic_threshold = DESERTIFICATION_CHANGE\n",
        "    except ee.EEException as e:\n",
        "        print(f\"GEE Error checking valid pixels in ndvi_change: {e}\")\n",
        "        print(\"Using default DESERTIFICATION_CHANGE threshold.\")\n",
        "        dynamic_threshold = DESERTIFICATION_CHANGE\n",
        "\n",
        "    # Generate synthetic labels with additional complexity\n",
        "    print(\"Generating synthetic labels...\")\n",
        "    labels = (ndvi_change.lt(dynamic_threshold)\n",
        "              .And(precipitation.lt(300))\n",
        "              .rename('Desertification'))\n",
        "\n",
        "    # Check label distribution\n",
        "    print(\"Checking label distribution...\")\n",
        "    label_histogram = None\n",
        "    print(\"Attempting direct computation of label distribution...\")\n",
        "    try:\n",
        "        label_stats = labels.reduceRegion(\n",
        "            reducer=ee.Reducer.frequencyHistogram(),\n",
        "            geometry=roi,\n",
        "            scale=STAT_SCALE,\n",
        "            maxPixels=MAX_PIXELS\n",
        "        ).getInfo()\n",
        "        label_histogram = label_stats.get('Desertification', {})\n",
        "        print(\"Label Distribution (0 = non-desertified, 1 = desertified):\", label_histogram)\n",
        "    except ee.EEException as e:\n",
        "        print(f\"GEE Error computing label distribution directly: {e}\")\n",
        "        print(\"Falling back to export method as a last resort...\")\n",
        "\n",
        "    if label_histogram is None:\n",
        "        try:\n",
        "            label_task = export_to_drive(\n",
        "                image=labels,\n",
        "                description='label_distribution',\n",
        "                folder='Desertification_Training',\n",
        "                scale=STAT_SCALE,\n",
        "                region=roi\n",
        "            )\n",
        "            wait_for_task(label_task, timeout=1800)\n",
        "            print(\"Label distribution exported. Please compute histogram manually and enter counts.\")\n",
        "            count_0 = float(input(\"Enter the count for class 0 (non-desertified): \"))\n",
        "            count_1 = float(input(\"Enter the count for class 1 (desertified): \"))\n",
        "            label_histogram = {'0': count_0, '1': count_1}\n",
        "        except Exception as e:\n",
        "            print(f\"Error exporting label distribution: {e}\")\n",
        "            print(\"Both direct computation and export failed.\")\n",
        "            raise SystemExit(\"Failed to compute label distribution.\")\n",
        "\n",
        "    if '0' not in label_histogram or '1' not in label_histogram:\n",
        "        print(\"Error: Training data contains only one class. Cannot train classifier.\")\n",
        "        print(\"Suggestions:\")\n",
        "        print(\"1. Use a different ROI with known desertification (e.g., Thar Desert, India: [68.0, 24.0, 71.0, 27.0]).\")\n",
        "        print(\"2. Extend the time period to capture more significant changes (e.g., 2010 to 2023).\")\n",
        "        raise SystemExit(\"Training data invalid: only one class present.\")\n",
        "\n",
        "    # Sample training data\n",
        "    print(\"Sampling training data...\")\n",
        "    with tqdm(total=1, desc=\"Sampling Training Data for Random Forest\") as pbar:\n",
        "        try:\n",
        "            training_sample = feature_stack.addBands(labels).stratifiedSample(\n",
        "                numPoints=RF_SAMPLE_PIXELS,\n",
        "                classBand='Desertification',\n",
        "                region=roi,\n",
        "                scale=500,\n",
        "                seed=42,\n",
        "                classValues=[0, 1],\n",
        "                classPoints=[int(RF_SAMPLE_PIXELS * label_histogram['0'] / (label_histogram['0'] + label_histogram['1'])),\n",
        "                             int(RF_SAMPLE_PIXELS * label_histogram['1'] / (label_histogram['0'] + label_histogram['1']))]\n",
        "            )\n",
        "        except ee.EEException as e:\n",
        "            print(f\"GEE Error sampling training data for Random Forest: {e}\")\n",
        "            print(\"Suggestions:\")\n",
        "            print(\"1. Reduce region size (current region might be too large).\")\n",
        "            print(\"2. Increase scale to 1000 or reduce numPixels to 500.\")\n",
        "            raise SystemExit(\"Failed to sample training data.\")\n",
        "        pbar.update(1)\n",
        "\n",
        "    # Convert sample to FeatureCollection for training\n",
        "    print(\"Converting sample to FeatureCollection...\")\n",
        "    feature_names = ['NDVI_' + available_years[0]]\n",
        "    if ndvi_mid is not None:\n",
        "        feature_names.append('NDVI_' + available_years[len(available_years)//2])\n",
        "    feature_names.extend(['NDVI_' + available_years[-1], 'land_cover', 'precipitation', 'temperature'])\n",
        "    training_data = training_sample.select(feature_names + ['Desertification'])\n",
        "\n",
        "    # Train Random Forest\n",
        "    print(\"Training Random Forest classifier...\")\n",
        "    with tqdm(total=1, desc=\"Training Random Forest\") as pbar:\n",
        "        classifier = ee.Classifier.smileRandomForest(\n",
        "            numberOfTrees=RF_NUM_TREES,\n",
        "            seed=42\n",
        "        ).train(\n",
        "            features=training_data,\n",
        "            classProperty='Desertification',\n",
        "            inputProperties=feature_names\n",
        "        )\n",
        "        pbar.update(1)\n",
        "\n",
        "    # Apply classifier to the entire image\n",
        "    print(\"Applying Random Forest classifier to the entire image...\")\n",
        "    desertification = None\n",
        "    with tqdm(total=1, desc=\"Applying Random Forest Classifier\") as pbar:\n",
        "        try:\n",
        "            desertification = feature_stack.classify(classifier, 'RF_Prediction')\n",
        "        except ee.EEException as e:\n",
        "            print(f\"GEE Error applying Random Forest classifier: {e}\")\n",
        "            print(\"Suggestions:\")\n",
        "            print(\"1. Reduce region size (current region might be too large).\")\n",
        "            print(\"2. Simplify feature stack by selecting fewer bands.\")\n",
        "            raise SystemExit(\"Failed to apply Random Forest classifier.\")\n",
        "        pbar.update(1)\n",
        "\n",
        "    # Sample evaluation data and apply classifier to the sample\n",
        "    print(\"Sampling evaluation data and applying classifier...\")\n",
        "    with tqdm(total=1, desc=\"Sampling Evaluation Data for Random Forest\") as pbar:\n",
        "        try:\n",
        "            # Step 1: Sample features and labels\n",
        "            eval_sample = feature_stack.addBands(labels).stratifiedSample(\n",
        "                numPoints=1000,\n",
        "                classBand='Desertification',\n",
        "                region=roi,\n",
        "                scale=500,\n",
        "                seed=123,\n",
        "                classValues=[0, 1],\n",
        "                classPoints=[int(1000 * label_histogram['0'] / (label_histogram['0'] + label_histogram['1'])),\n",
        "                             int(1000 * label_histogram['1'] / (label_histogram['0'] + label_histogram['1']))]\n",
        "            )\n",
        "            # Step 2: Apply the classifier to the sampled FeatureCollection\n",
        "            eval_sample_classified = eval_sample.classify(classifier, 'RF_Prediction')\n",
        "            # Step 3: Retrieve the classified sample\n",
        "            eval_sample_info = eval_sample_classified.getInfo()\n",
        "            # Step 4: Extract true labels and predictions\n",
        "            y_true = [f['properties']['Desertification'] for f in eval_sample_info['features']]\n",
        "            y_pred = [f['properties']['RF_Prediction'] for f in eval_sample_info['features']]\n",
        "            print(\"Random Forest Classification Report (Evaluation Sample):\")\n",
        "            print(classification_report(y_true, y_pred))\n",
        "            print(\"Confusion Matrix:\")\n",
        "            print(confusion_matrix(y_true, y_pred))\n",
        "            auc = roc_auc_score(y_true, y_pred)\n",
        "            print(f\"ROC AUC Score: {auc:.2f}\")\n",
        "        except ee.EEException as e:\n",
        "            print(f\"GEE Error evaluating Random Forest: {e}\")\n",
        "            print(\"Skipping evaluation due to memory limits. Proceeding with classification results.\")\n",
        "        except KeyError as e:\n",
        "            print(f\"KeyError during evaluation: {e}\")\n",
        "            print(\"The evaluation sample does not contain the expected 'RF_Prediction' property.\")\n",
        "            print(\"Skipping evaluation and proceeding with classification results.\")\n",
        "        pbar.update(1)\n",
        "\n",
        "    if desertification is None:\n",
        "        raise SystemExit(\"Error: 'desertification' variable was not defined after classification.\")\n",
        "\n",
        "    print(\"Step 10 completed successfully.\")\n",
        "    return desertification\n",
        "\n",
        "# Call Step 10 with error handling\n",
        "print(\"Executing Step 10...\")\n",
        "desertification = None\n",
        "try:\n",
        "    desertification = train_rf_classifier(\n",
        "        ndvi_before, ndvi_mid, ndvi_after, ndvi_change, land_cover, precipitation, temperature, roi, available_years\n",
        "    )\n",
        "    print(\"Step 10 completed: Random Forest classification finished. 'desertification' variable defined.\")\n",
        "except Exception as e:\n",
        "    print(f\"Error in Step 10: {e}\")\n",
        "    print(\"Ensure that Steps 8 and 9 have been executed successfully.\")\n",
        "    raise SystemExit(\"Step 10 failed to complete.\")"
      ]
    },
    {
      "cell_type": "code",
      "execution_count": 14,
      "metadata": {
        "colab": {
          "base_uri": "https://localhost:8080/"
        },
        "id": "yRb9jH9TMySQ",
        "outputId": "ec9e2653-37e0-4964-f26f-3d7f5cbd9e00"
      },
      "outputs": [
        {
          "output_type": "stream",
          "name": "stdout",
          "text": [
            "Starting Step 11: Exporting final desertification map and computing statistics...\n",
            "Computing desertification statistics...\n",
            "Desertification Distribution (0 = non-desertified, 1 = desertified): {'0': 12911.392156862776, '1': 1160.2392156862745}\n",
            "Percentage of area desertified: 8.25%\n",
            "Exporting desertification map to Google Drive...\n"
          ]
        },
        {
          "output_type": "stream",
          "name": "stderr",
          "text": [
            "\rExporting Desertification Map:   0%|          | 0/1 [00:00<?, ?it/s]"
          ]
        },
        {
          "output_type": "stream",
          "name": "stdout",
          "text": [
            "Export task started: final_desertification_map. Check Google Drive folder 'Desertification_Results' for 'final_desertification_map.tif'.\n"
          ]
        },
        {
          "output_type": "stream",
          "name": "stderr",
          "text": [
            "Exporting Desertification Map: 100%|██████████| 1/1 [02:53<00:00, 173.25s/it]"
          ]
        },
        {
          "output_type": "stream",
          "name": "stdout",
          "text": [
            "Task <Task 3YCVNUFFOBUXMWR2EKKPZ7EA Type.EXPORT_IMAGE: final_desertification_map (State.UNSUBMITTED)> completed with status: COMPLETED\n",
            "Desertification map exported to Drive. Download 'final_desertification_map.tif' from the 'Desertification_Results' folder.\n",
            "Step 11 completed: Desertification map exported and statistics computed.\n",
            "Project completed successfully!\n"
          ]
        },
        {
          "output_type": "stream",
          "name": "stderr",
          "text": [
            "\n"
          ]
        }
      ],
      "source": [
        "# Step 11: Export Final Desertification Map and Compute Statistics\n",
        "print(\"Starting Step 11: Exporting final desertification map and computing statistics...\")\n",
        "\n",
        "# Verify that the desertification variable is defined\n",
        "if 'desertification' not in globals():\n",
        "    print(\"Error in Step 11: 'desertification' variable is not defined.\")\n",
        "    print(\"Ensure that Step 10 has been executed successfully.\")\n",
        "    raise SystemExit(\"Stopping execution due to missing variable.\")\n",
        "\n",
        "# Compute the percentage of desertified area\n",
        "print(\"Computing desertification statistics...\")\n",
        "try:\n",
        "    area_stats = desertification.reduceRegion(\n",
        "        reducer=ee.Reducer.frequencyHistogram(),\n",
        "        geometry=roi,\n",
        "        scale=1000,  # Use a larger scale to reduce memory usage\n",
        "        maxPixels=1e11\n",
        "    ).getInfo()\n",
        "    desertification_histogram = area_stats.get('RF_Prediction', {})\n",
        "    print(\"Desertification Distribution (0 = non-desertified, 1 = desertified):\", desertification_histogram)\n",
        "\n",
        "    total_pixels = sum(desertification_histogram.values())\n",
        "    desertified_pixels = desertification_histogram.get('1', 0)\n",
        "    desertified_percentage = (desertified_pixels / total_pixels) * 100 if total_pixels > 0 else 0\n",
        "    print(f\"Percentage of area desertified: {desertified_percentage:.2f}%\")\n",
        "except ee.EEException as e:\n",
        "    print(f\"GEE Error computing desertification statistics: {e}\")\n",
        "    print(\"Proceeding with export, but statistics will not be available.\")\n",
        "    desertified_percentage = None\n",
        "\n",
        "# Export the desertification map to Google Drive\n",
        "print(\"Exporting desertification map to Google Drive...\")\n",
        "with tqdm(total=1, desc=\"Exporting Desertification Map\") as pbar:\n",
        "    export_scale = 1000  # Use a larger scale to reduce memory usage\n",
        "    try:\n",
        "        task = export_to_drive(\n",
        "            image=desertification,\n",
        "            description='final_desertification_map',\n",
        "            folder='Desertification_Results',\n",
        "            scale=export_scale,\n",
        "            region=roi\n",
        "        )\n",
        "        wait_for_task(task, timeout=1800)  # 30-minute timeout\n",
        "        print(\"Desertification map exported to Drive. Download 'final_desertification_map.tif' from the 'Desertification_Results' folder.\")\n",
        "    except Exception as e:\n",
        "        print(f\"Error exporting desertification map: {e}\")\n",
        "        print(\"Suggestions:\")\n",
        "        print(\"1. Ensure your GEE project has write access to Google Drive.\")\n",
        "        print(\"2. Reduce the region size (e.g., [69.0, 25.0, 70.0, 26.0]).\")\n",
        "        print(\"3. Increase the export scale further (e.g., scale=2000).\")\n",
        "        print(\"4. Check your GEE export quotas and permissions.\")\n",
        "        raise SystemExit(\"Failed to export desertification map.\")\n",
        "    pbar.update(1)\n",
        "\n",
        "print(\"Step 11 completed: Desertification map exported and statistics computed.\")\n",
        "print(\"Project completed successfully!\")"
      ]
    },
    {
      "cell_type": "code",
      "execution_count": 15,
      "metadata": {
        "colab": {
          "base_uri": "https://localhost:8080/",
          "height": 1000
        },
        "id": "KQVX20MYRfn_",
        "outputId": "38e5133d-5504-4e88-8137-c3da9bdfbdee"
      },
      "outputs": [
        {
          "output_type": "stream",
          "name": "stdout",
          "text": [
            "Starting Step 12: Printing detailed desertification results and displaying thumbnail images for the user-specified region...\n",
            "Region of Interest (ROI) Coordinates: [88.0, 20.9, 90.0, 22.9]\n",
            "\n",
            "1. Summary of All Images (Text-Based)\n",
            "-------------------------------------\n",
            "NDVI Before (2016):\n",
            "  Valid Pixels: 14533\n",
            "  Percentage of Valid Pixels: 29.22%\n",
            "  Mean NDVI_2016: 0.508\n",
            "NDVI Mid (2019):\n",
            "  Valid Pixels: 14533\n",
            "  Percentage of Valid Pixels: 29.22%\n",
            "  Mean NDVI_2019: 0.508\n",
            "NDVI After (2023):\n",
            "  Valid Pixels: 14533\n",
            "  Percentage of Valid Pixels: 29.22%\n",
            "  Mean NDVI_2023: 0.527\n",
            "Desertification Map (final_desertification_map.tif contents):\n",
            "  Valid Pixels: 14142\n",
            "  Percentage of Valid Pixels: 28.44%\n",
            "  Mean RF_Prediction (proportion of desertified pixels): 0.082\n",
            "\n",
            "2. Changes in the Map (NDVI Trends and Desertification Correlation)\n",
            "----------------------------------------------------------------\n",
            "NDVI Change (2016 to 2023): 0.019\n",
            "Interpretation: Negative values indicate vegetation loss, which may correlate with desertification.\n",
            "Percentage of areas with significant NDVI decline (>0.1) that are desertified: 0.00%\n",
            "\n",
            "3. Detailed Contents of final_desertification_map.tif (Text-Based)\n",
            "----------------------------------------------------------------\n",
            "Pixel Counts:\n",
            "  Non-Desertified (0): 12911.392156862776 pixels\n",
            "  Desertified (1): 1160.2392156862745 pixels\n",
            "\n",
            "Area Statistics:\n",
            "  Total Area: 45750.20 km²\n",
            "  Desertified Area (Class 1): 0.00 km²\n",
            "  Non-Desertified Area (Class 0): 45750.20 km²\n",
            "\n",
            "Sampled 10x10 Grid of Desertification Map:\n",
            "0 = Non-Desertified, 1 = Desertified\n",
            "0 0 0 0 0 0 1 1 1 0\n",
            "0 0 0 0 0 0 0 0 0 0\n",
            "0 0 0 0 0 0 0 0 0 0\n",
            "0 0 0 0 0 0 0 0 0 0\n",
            "0 0 0 0 0 0 0 0 0 0\n",
            "0 0 0 0 0 0 0 0 0 0\n",
            "0 0 0 0 0 0 0 0 0 0\n",
            "0 0 0 0 0 0 0 0 0 0\n",
            "0 0 0 0 0 0 0 0 0 0\n",
            "0 0 0 0 0 0 0 0 0 0\n",
            "\n",
            "4. Thumbnail Images of NDVI and Desertification Maps\n",
            "--------------------------------------------------\n",
            "Note: These are low-resolution thumbnails for visualization. For detailed analysis, download 'final_desertification_map.tif' from Google Drive.\n",
            "\n",
            "NDVI Before (2016):\n"
          ]
        },
        {
          "output_type": "display_data",
          "data": {
            "text/html": [
              "<img src=\"https://earthengine.googleapis.com/v1/projects/my-desertification-bucket/thumbnails/10bbb079de72986c179b96315eef0936-635b879b9e2cc9a6a7f3428fad049598:getPixels\"/>"
            ],
            "text/plain": [
              "<IPython.core.display.Image object>"
            ]
          },
          "metadata": {}
        },
        {
          "output_type": "stream",
          "name": "stdout",
          "text": [
            "\n",
            "NDVI Mid (2019):\n"
          ]
        },
        {
          "output_type": "display_data",
          "data": {
            "text/html": [
              "<img src=\"https://earthengine.googleapis.com/v1/projects/my-desertification-bucket/thumbnails/f3cbc0be074668b9bd3e71ea3888266e-d48f0d66de839314d0e3e6dadc30518c:getPixels\"/>"
            ],
            "text/plain": [
              "<IPython.core.display.Image object>"
            ]
          },
          "metadata": {}
        },
        {
          "output_type": "stream",
          "name": "stdout",
          "text": [
            "\n",
            "NDVI After (2023):\n"
          ]
        },
        {
          "output_type": "display_data",
          "data": {
            "text/html": [
              "<img src=\"https://earthengine.googleapis.com/v1/projects/my-desertification-bucket/thumbnails/6e90aec583ab5a0d948b2d138fb36ce2-43585e7b9c30e954626dd57c2cba44d7:getPixels\"/>"
            ],
            "text/plain": [
              "<IPython.core.display.Image object>"
            ]
          },
          "metadata": {}
        },
        {
          "output_type": "stream",
          "name": "stdout",
          "text": [
            "\n",
            "Desertification Severity Map (Yellow = Low, Orange = Medium, Red = High Severity):\n"
          ]
        },
        {
          "output_type": "display_data",
          "data": {
            "text/html": [
              "<img src=\"https://earthengine.googleapis.com/v1/projects/my-desertification-bucket/thumbnails/c0c31466fe888afa4abb4049ce42ad7f-bf09c4d08451bc3df844f1ee0d21d7f0:getPixels\"/>"
            ],
            "text/plain": [
              "<IPython.core.display.Image object>"
            ]
          },
          "metadata": {}
        },
        {
          "output_type": "stream",
          "name": "stdout",
          "text": [
            "\n",
            "Step 12 completed: Detailed results and thumbnail images displayed in the notebook for the user-specified region.\n"
          ]
        }
      ],
      "source": [
        "# Required imports for displaying images\n",
        "from IPython.display import Image, display\n",
        "\n",
        "# Step 12: Print Detailed Desertification Results and Display Thumbnail Images in the Notebook\n",
        "print(\"Starting Step 12: Printing detailed desertification results and displaying thumbnail images for the user-specified region...\")\n",
        "\n",
        "# Print the current ROI coordinates for clarity\n",
        "roi_bounds = roi.bounds().coordinates().getInfo()[0]\n",
        "print(f\"Region of Interest (ROI) Coordinates: [{roi_bounds[0][0]:.1f}, {roi_bounds[0][1]:.1f}, {roi_bounds[2][0]:.1f}, {roi_bounds[2][1]:.1f}]\")\n",
        "\n",
        "# Verify that required variables are defined\n",
        "required_vars = ['ndvi_before', 'ndvi_mid', 'ndvi_after', 'desertification', 'roi', 'available_years']\n",
        "missing_vars = [var for var in required_vars if var not in globals()]\n",
        "if missing_vars:\n",
        "    print(f\"Error in Step 12: The following variables are not defined: {missing_vars}\")\n",
        "    print(\"Ensure that Steps 8, 9, and 10 have been executed successfully.\")\n",
        "    raise SystemExit(\"Stopping execution due to missing variables.\")\n",
        "\n",
        "# 1. Summarize All Images (Text-Based)\n",
        "print(\"\\n1. Summary of All Images (Text-Based)\")\n",
        "print(\"-------------------------------------\")\n",
        "\n",
        "# Function to compute image statistics\n",
        "def compute_image_stats(image, band_name, geometry, scale, max_pixels):\n",
        "    try:\n",
        "        valid_pixels = image.reduceRegion(\n",
        "            reducer=ee.Reducer.count(),\n",
        "            geometry=geometry,\n",
        "            scale=scale,\n",
        "            maxPixels=max_pixels\n",
        "        ).getInfo().get(band_name, 0)\n",
        "\n",
        "        total_pixels = ee.Image(1).reduceRegion(\n",
        "            reducer=ee.Reducer.count(),\n",
        "            geometry=geometry,\n",
        "            scale=scale,\n",
        "            maxPixels=max_pixels\n",
        "        ).getInfo().get('constant', 1)\n",
        "\n",
        "        percent_valid = (valid_pixels / total_pixels * 100) if total_pixels > 0 else 0\n",
        "\n",
        "        mean_value = image.reduceRegion(\n",
        "            reducer=ee.Reducer.mean(),\n",
        "            geometry=geometry,\n",
        "            scale=scale,\n",
        "            maxPixels=max_pixels\n",
        "        ).getInfo().get(band_name, None)\n",
        "\n",
        "        return valid_pixels, percent_valid, mean_value\n",
        "    except ee.EEException as e:\n",
        "        print(f\"GEE Error computing stats for {band_name}: {e}\")\n",
        "        return None, None, None\n",
        "\n",
        "# NDVI Images\n",
        "ndvi_images = [\n",
        "    (ndvi_before, f\"NDVI_{available_years[0]}\", \"NDVI Before (2016)\"),\n",
        "    (ndvi_mid, f\"NDVI_{available_years[len(available_years)//2]}\", \"NDVI Mid (2019)\" if ndvi_mid is not None else \"NDVI Mid (Not Available)\"),\n",
        "    (ndvi_after, f\"NDVI_{available_years[-1]}\", \"NDVI After (2023)\")\n",
        "]\n",
        "\n",
        "for image, band_name, label in ndvi_images:\n",
        "    if image is None:\n",
        "        print(f\"{label}: Not available\")\n",
        "        continue\n",
        "    valid_pixels, percent_valid, mean_value = compute_image_stats(image, band_name, roi, 1000, 1e8)\n",
        "    if valid_pixels is not None:\n",
        "        print(f\"{label}:\")\n",
        "        print(f\"  Valid Pixels: {valid_pixels}\")\n",
        "        print(f\"  Percentage of Valid Pixels: {percent_valid:.2f}%\")\n",
        "        print(f\"  Mean {band_name}: {mean_value:.3f}\" if mean_value is not None else \"  Mean Value: Not available\")\n",
        "\n",
        "# Desertification Image\n",
        "valid_pixels, percent_valid, mean_value = compute_image_stats(desertification, 'RF_Prediction', roi, 1000, 1e8)\n",
        "if valid_pixels is not None:\n",
        "    print(\"Desertification Map (final_desertification_map.tif contents):\")\n",
        "    print(f\"  Valid Pixels: {valid_pixels}\")\n",
        "    print(f\"  Percentage of Valid Pixels: {percent_valid:.2f}%\")\n",
        "    print(f\"  Mean RF_Prediction (proportion of desertified pixels): {mean_value:.3f}\" if mean_value is not None else \"  Mean Value: Not available\")\n",
        "\n",
        "# 2. Analyze How the Map Has Changed (Text-Based)\n",
        "print(\"\\n2. Changes in the Map (NDVI Trends and Desertification Correlation)\")\n",
        "print(\"----------------------------------------------------------------\")\n",
        "\n",
        "try:\n",
        "    mean_ndvi_before = ndvi_before.reduceRegion(\n",
        "        reducer=ee.Reducer.mean(),\n",
        "        geometry=roi,\n",
        "        scale=1000,\n",
        "        maxPixels=1e8\n",
        "    ).getInfo().get(f\"NDVI_{available_years[0]}\", None)\n",
        "\n",
        "    mean_ndvi_after = ndvi_after.reduceRegion(\n",
        "        reducer=ee.Reducer.mean(),\n",
        "        geometry=roi,\n",
        "        scale=1000,\n",
        "        maxPixels=1e8\n",
        "    ).getInfo().get(f\"NDVI_{available_years[-1]}\", None)\n",
        "\n",
        "    if mean_ndvi_before is not None and mean_ndvi_after is not None:\n",
        "        ndvi_change = mean_ndvi_after - mean_ndvi_before\n",
        "        print(f\"NDVI Change (2016 to 2023): {ndvi_change:.3f}\")\n",
        "        print(\"Interpretation: Negative values indicate vegetation loss, which may correlate with desertification.\")\n",
        "    else:\n",
        "        print(\"NDVI Change: Not available (mean values could not be computed).\")\n",
        "\n",
        "    significant_decline = ndvi_before.subtract(ndvi_after).gt(0.1)\n",
        "    decline_and_desertified = significant_decline.multiply(desertification.eq(1))\n",
        "    decline_and_desertified_count = decline_and_desertified.reduceRegion(\n",
        "        reducer=ee.Reducer.sum(),\n",
        "        geometry=roi,\n",
        "        scale=1000,\n",
        "        maxPixels=1e8\n",
        "    ).getInfo().get('RF_Prediction', 0)\n",
        "\n",
        "    decline_count = significant_decline.reduceRegion(\n",
        "        reducer=ee.Reducer.sum(),\n",
        "        geometry=roi,\n",
        "        scale=1000,\n",
        "        maxPixels=1e8\n",
        "    ).getInfo().get(f\"NDVI_{available_years[0]}\", 0)\n",
        "\n",
        "    if decline_count > 0:\n",
        "        percent_desertified_in_declined = (decline_and_desertified_count / decline_count) * 100\n",
        "        print(f\"Percentage of areas with significant NDVI decline (>0.1) that are desertified: {percent_desertified_in_declined:.2f}%\")\n",
        "    else:\n",
        "        print(\"Correlation Analysis: Not available (no significant NDVI decline detected).\")\n",
        "except ee.EEException as e:\n",
        "    print(f\"GEE Error analyzing map changes: {e}\")\n",
        "    print(\"Skipping change analysis.\")\n",
        "\n",
        "# 3. Detailed Summary of the TIF File Contents (Text-Based)\n",
        "print(\"\\n3. Detailed Contents of final_desertification_map.tif (Text-Based)\")\n",
        "print(\"----------------------------------------------------------------\")\n",
        "\n",
        "try:\n",
        "    desertification_stats = desertification.reduceRegion(\n",
        "        reducer=ee.Reducer.frequencyHistogram(),\n",
        "        geometry=roi,\n",
        "        scale=1000,\n",
        "        maxPixels=1e8\n",
        "    ).getInfo()\n",
        "    desertification_histogram = desertification_stats.get('RF_Prediction', {})\n",
        "    print(\"Pixel Counts:\")\n",
        "    print(f\"  Non-Desertified (0): {desertification_histogram.get('0', 0)} pixels\")\n",
        "    print(f\"  Desertified (1): {desertification_histogram.get('1', 0)} pixels\")\n",
        "\n",
        "    pixel_area = ee.Image.pixelArea()\n",
        "    area_image = pixel_area.multiply(desertification.eq(1))\n",
        "    area_stats = area_image.reduceRegion(\n",
        "        reducer=ee.Reducer.sum(),\n",
        "        geometry=roi,\n",
        "        scale=1000,\n",
        "        maxPixels=1e8\n",
        "    ).getInfo()\n",
        "    desertified_area_m2 = area_stats.get('RF_Prediction', 0)\n",
        "    total_area_m2 = pixel_area.reduceRegion(\n",
        "        reducer=ee.Reducer.sum(),\n",
        "        geometry=roi,\n",
        "        scale=1000,\n",
        "        maxPixels=1e8\n",
        "    ).getInfo().get('area', 0)\n",
        "    non_desertified_area_m2 = total_area_m2 - desertified_area_m2\n",
        "\n",
        "    desertified_area_km2 = desertified_area_m2 / 1e6\n",
        "    non_desertified_area_km2 = non_desertified_area_m2 / 1e6\n",
        "    total_area_km2 = total_area_m2 / 1e6\n",
        "\n",
        "    print(\"\\nArea Statistics:\")\n",
        "    print(f\"  Total Area: {total_area_km2:.2f} km²\")\n",
        "    print(f\"  Desertified Area (Class 1): {desertified_area_km2:.2f} km²\")\n",
        "    print(f\"  Non-Desertified Area (Class 0): {non_desertified_area_km2:.2f} km²\")\n",
        "\n",
        "    print(\"\\nSampled 10x10 Grid of Desertification Map:\")\n",
        "    print(\"0 = Non-Desertified, 1 = Desertified\")\n",
        "    bounds = roi.bounds().getInfo()['coordinates'][0]\n",
        "    west, south = bounds[0][0], bounds[0][1]\n",
        "    east, north = bounds[2][0], bounds[2][1]\n",
        "    lon_step = (east - west) / 10\n",
        "    lat_step = (north - south) / 10\n",
        "    points = []\n",
        "    for i in range(10):\n",
        "        for j in range(10):\n",
        "            lon = west + (i + 0.5) * lon_step\n",
        "            lat = south + (j + 0.5) * lat_step\n",
        "            points.append(ee.Geometry.Point(lon, lat))\n",
        "    point_collection = ee.FeatureCollection(points)\n",
        "\n",
        "    sampled_values = desertification.sampleRegions(\n",
        "        collection=point_collection,\n",
        "        scale=1000,\n",
        "        geometries=False\n",
        "    ).getInfo()\n",
        "\n",
        "    grid = [[0 for _ in range(10)] for _ in range(10)]\n",
        "    idx = 0\n",
        "    for i in range(10):\n",
        "        for j in range(10):\n",
        "            if idx < len(sampled_values['features']):\n",
        "                grid[i][j] = sampled_values['features'][idx]['properties']['RF_Prediction']\n",
        "            idx += 1\n",
        "\n",
        "    for row in grid:\n",
        "        print(\" \".join(map(str, row)))\n",
        "except ee.EEException as e:\n",
        "    print(f\"GEE Error computing desertification statistics: {e}\")\n",
        "    print(\"Skipping pixel counts, area statistics, and grid.\")\n",
        "\n",
        "# 4. Display Thumbnail Images\n",
        "print(\"\\n4. Thumbnail Images of NDVI and Desertification Maps\")\n",
        "print(\"--------------------------------------------------\")\n",
        "print(\"Note: These are low-resolution thumbnails for visualization. For detailed analysis, download 'final_desertification_map.tif' from Google Drive.\")\n",
        "\n",
        "# Create a desertification severity image based on NDVI decline\n",
        "try:\n",
        "    # Compute NDVI decline (positive values indicate vegetation loss)\n",
        "    ndvi_decline = ndvi_before.subtract(ndvi_after).rename('decline')\n",
        "    # Normalize NDVI decline to a 0-1 range for desertified areas\n",
        "    max_decline = 0.3  # Maximum expected NDVI decline\n",
        "    normalized_decline = ndvi_decline.divide(max_decline).clamp(0, 1)  # Scale to 0-1\n",
        "    # For non-desertified areas, set value to 0; for desertified areas, scale from 0.5 to 1\n",
        "    desertification_severity = desertification.multiply(normalized_decline.multiply(0.5).add(0.5)).where(desertification.eq(0), 0)\n",
        "    desertification_severity = desertification_severity.rename('severity')\n",
        "except ee.EEException as e:\n",
        "    print(f\"GEE Error computing desertification severity: {e}\")\n",
        "    print(\"Falling back to binary desertification map for visualization.\")\n",
        "    desertification_severity = desertification\n",
        "\n",
        "# Function to generate and display a thumbnail\n",
        "def display_thumbnail(image, band_name, label, vis_params, region):\n",
        "    try:\n",
        "        thumbnail_url = image.getThumbURL({\n",
        "            'bands': band_name,\n",
        "            'region': region,\n",
        "            'min': vis_params['min'],\n",
        "            'max': vis_params['max'],\n",
        "            'palette': vis_params['palette'],\n",
        "            'dimensions': 300,  # Small thumbnail size for notebook display\n",
        "            'format': 'png'\n",
        "        })\n",
        "        print(f\"\\n{label}:\")\n",
        "        display(Image(url=thumbnail_url))\n",
        "    except ee.EEException as e:\n",
        "        print(f\"GEE Error generating thumbnail for {label}: {e}\")\n",
        "\n",
        "# Visualization parameters\n",
        "ndvi_vis_params = {\n",
        "    'min': 0,\n",
        "    'max': 1,\n",
        "    'palette': ['#d73027', '#f46d43', '#fdae61', '#fee08b', '#d9ef8b', '#a6d96a', '#66bd63', '#1a9850']  # Red to Green\n",
        "}\n",
        "\n",
        "desertification_vis_params = {\n",
        "    'min': 0,\n",
        "    'max': 1,\n",
        "    'palette': ['#228B22', '#228B22', '#FFFF00', '#FFA500', '#FF0000']  # Forest Green for non-desertified, Yellow-Orange-Red for desertified\n",
        "}\n",
        "\n",
        "# Display thumbnails for NDVI images\n",
        "for image, band_name, label in ndvi_images:\n",
        "    if image is not None:\n",
        "        display_thumbnail(image, band_name, label, ndvi_vis_params, roi)\n",
        "\n",
        "# Display thumbnail for desertification severity map\n",
        "display_thumbnail(desertification_severity, 'severity', \"Desertification Severity Map (Yellow = Low, Orange = Medium, Red = High Severity)\", desertification_vis_params, roi)\n",
        "\n",
        "print(\"\\nStep 12 completed: Detailed results and thumbnail images displayed in the notebook for the user-specified region.\")"
      ]
    }
  ],
  "metadata": {
    "colab": {
      "provenance": []
    },
    "kernelspec": {
      "display_name": "Python 3",
      "name": "python3"
    },
    "language_info": {
      "name": "python"
    }
  },
  "nbformat": 4,
  "nbformat_minor": 0
}